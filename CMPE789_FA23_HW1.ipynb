{
 "cells": [
  {
   "cell_type": "markdown",
   "metadata": {
    "id": "7w6ETNL1Zs3i"
   },
   "source": [
    "# **Homework 1: Pytorch tutorial and image classification**"
   ]
  },
  {
   "cell_type": "markdown",
   "metadata": {
    "id": "-nLjOnO7aFv1"
   },
   "source": [
    "\n",
    "\n",
    "Objectives:\n",
    "* Get familiar with PyTorch.\n",
    "* Understand basic CNN training tips.\n",
    "* Solve a classification problem with convonlutional neural networks (CNN).\n",
    "\n",
    "Total points: 100\n",
    "\n",
    "If any question, please contact the TAs via TA hours, or email.\n"
   ]
  },
  {
   "cell_type": "markdown",
   "metadata": {
    "id": "JFQJZllwaWE-"
   },
   "source": [
    "# **Import Some Packages**"
   ]
  },
  {
   "cell_type": "code",
   "execution_count": 1,
   "metadata": {
    "id": "Jr7qtGEwkHGW"
   },
   "outputs": [],
   "source": [
    "# PyTorch\n",
    "import torch\n",
    "import torch.nn as nn\n",
    "import torch.nn.functional as F\n",
    "import torch.optim as optim\n",
    "import torchvision\n",
    "from torchvision import datasets, transforms\n",
    "\n",
    "# For data preprocess\n",
    "import numpy as np\n",
    "import csv\n",
    "import os\n",
    "\n",
    "# For plotting\n",
    "import matplotlib.pyplot as plt\n",
    "from matplotlib.pyplot import figure\n"
   ]
  },
  {
   "cell_type": "markdown",
   "metadata": {
    "id": "qigySNW2ZM3g"
   },
   "source": [
    "# **Preliminary Knowledge**"
   ]
  },
  {
   "cell_type": "markdown",
   "metadata": {
    "id": "nAORb1dpZM7a"
   },
   "source": [
    "Please read [PyTorch official website](https://pytorch.org/tutorials/beginner/blitz/tensor_tutorial.html) carefully and learn the basic tensor operation before the following tasks.\n",
    "\n",
    "Also, feel free to try different parameters."
   ]
  },
  {
   "cell_type": "markdown",
   "metadata": {
    "id": "jeYP89cnhLnc"
   },
   "source": [
    "## **Tensor**"
   ]
  },
  {
   "cell_type": "markdown",
   "metadata": {
    "id": "7fcAvQI1hOnG"
   },
   "source": [
    "### **Create a tensor**"
   ]
  },
  {
   "cell_type": "markdown",
   "metadata": {
    "id": "iv0epVaAwEx2"
   },
   "source": [
    "Specify the tensor"
   ]
  },
  {
   "cell_type": "code",
   "execution_count": 2,
   "metadata": {
    "id": "ZQLlrWeTwGkQ"
   },
   "outputs": [],
   "source": [
    "x = torch.tensor([[-1,1],[1,-1]])"
   ]
  },
  {
   "cell_type": "markdown",
   "metadata": {
    "id": "0ehLHwXhwIRt"
   },
   "source": [
    "Zero tensor & Unit tensor"
   ]
  },
  {
   "cell_type": "code",
   "execution_count": 3,
   "metadata": {
    "id": "7NTU9qzuwMm1"
   },
   "outputs": [
    {
     "name": "stdout",
     "output_type": "stream",
     "text": [
      "tensor([[0., 0.]])\n"
     ]
    }
   ],
   "source": [
    "# zero tensor\n",
    "x = torch.zeros(1,2)\n",
    "# x = torch.zeros([1,2])\n",
    "# x = torch.zeros((1,2))\n",
    "\n",
    "# unit tensor\n",
    "y = torch.ones(1,2,3)\n",
    "\n",
    "print(x)"
   ]
  },
  {
   "cell_type": "markdown",
   "metadata": {
    "id": "TJNhXkV2wfj0"
   },
   "source": [
    "Random tensor"
   ]
  },
  {
   "cell_type": "code",
   "execution_count": 4,
   "metadata": {
    "colab": {
     "base_uri": "https://localhost:8080/",
     "height": 183
    },
    "id": "7fAu6GSpwhLu",
    "outputId": "57c42154-2a2d-4345-f9ec-10607907ad06"
   },
   "outputs": [
    {
     "name": "stdout",
     "output_type": "stream",
     "text": [
      "tensor([[[0.6316, 0.2544, 0.7370, 0.8197, 0.1460],\n",
      "         [0.0945, 0.7898, 0.4504, 0.5501, 0.8684],\n",
      "         [0.0720, 0.4600, 0.7687, 0.7893, 0.8458],\n",
      "         [0.7422, 0.4410, 0.7478, 0.4522, 0.4357]],\n",
      "\n",
      "        [[0.9230, 0.9102, 0.8077, 0.3219, 0.7780],\n",
      "         [0.6246, 0.3715, 0.6736, 0.6906, 0.1274],\n",
      "         [0.9666, 0.5907, 0.9734, 0.2832, 0.9797],\n",
      "         [0.4498, 0.6379, 0.2096, 0.6076, 0.3965]],\n",
      "\n",
      "        [[0.9605, 0.3913, 0.5718, 0.8342, 0.2632],\n",
      "         [0.6472, 0.4834, 0.9160, 0.7743, 0.4451],\n",
      "         [0.7705, 0.9849, 0.0889, 0.8434, 0.6626],\n",
      "         [0.6653, 0.6357, 0.2773, 0.8659, 0.1433]]])\n"
     ]
    }
   ],
   "source": [
    "x = torch.rand(3,4,5,dtype=torch.float32)\n",
    "print(x)"
   ]
  },
  {
   "cell_type": "markdown",
   "metadata": {
    "id": "yn4STFHCwUZm"
   },
   "source": [
    "Convert from a numpy array"
   ]
  },
  {
   "cell_type": "code",
   "execution_count": 5,
   "metadata": {
    "id": "-R7bgXhChff3"
   },
   "outputs": [
    {
     "name": "stdout",
     "output_type": "stream",
     "text": [
      "[[0 0 0 0]\n",
      " [0 0 0 0]\n",
      " [0 0 0 0]]\n",
      "(3, 4) int8\n"
     ]
    }
   ],
   "source": [
    "arr_np = np.array([[1,-1],[-1,1]])\n",
    "arr_np = np.random.rand(3,4).astype('int8')\n",
    "print(arr_np)\n",
    "print(arr_np.shape, arr_np.dtype)"
   ]
  },
  {
   "cell_type": "code",
   "execution_count": 6,
   "metadata": {
    "id": "UCWYXI8uiPmK"
   },
   "outputs": [
    {
     "name": "stdout",
     "output_type": "stream",
     "text": [
      "tensor([[0, 0, 0, 0],\n",
      "        [0, 0, 0, 0],\n",
      "        [0, 0, 0, 0]], dtype=torch.int8) torch.Size([3, 4]) torch.int8\n"
     ]
    }
   ],
   "source": [
    "# convert from numpy array\n",
    "x = torch.from_numpy(arr_np)\n",
    "x = torch.tensor(arr_np)\n",
    "\n",
    "print(x,x.shape,x.dtype)"
   ]
  },
  {
   "cell_type": "markdown",
   "metadata": {
    "id": "J7jYscWbwm6d"
   },
   "source": [
    "Shape of a tensor"
   ]
  },
  {
   "cell_type": "code",
   "execution_count": 7,
   "metadata": {
    "id": "NEIAKpyxwqHF"
   },
   "outputs": [
    {
     "name": "stdout",
     "output_type": "stream",
     "text": [
      "torch.Size([2, 4]) torch.float32\n",
      "torch.Size([2, 4])\n",
      "number of elements 8\n"
     ]
    }
   ],
   "source": [
    "x = torch.rand(2,4)\n",
    "print(x.shape, x.dtype)\n",
    "print(x.size())\n",
    "\n",
    "print('number of elements', x.numel())"
   ]
  },
  {
   "cell_type": "markdown",
   "metadata": {
    "id": "9fGKGuzOogL7"
   },
   "source": [
    "### **Tensor Operators**"
   ]
  },
  {
   "cell_type": "markdown",
   "metadata": {
    "id": "84ghUebtww-t"
   },
   "source": [
    "#### **Basic Operators**"
   ]
  },
  {
   "cell_type": "code",
   "execution_count": 8,
   "metadata": {
    "id": "CPQnjlHxw0Mr"
   },
   "outputs": [
    {
     "name": "stdout",
     "output_type": "stream",
     "text": [
      "x + y tensor([[3, 3],\n",
      "        [7, 7]])\n",
      "x - y tensor([[-1,  1],\n",
      "        [-1,  1]])\n",
      "xy tensor([[10,  7],\n",
      "        [22, 15]])\n",
      "yx tensor([[ 5,  8],\n",
      "        [13, 20]])\n",
      "xy tensor([[10,  7],\n",
      "        [22, 15]])\n",
      "x * y tensor([[ 2,  2],\n",
      "        [12, 12]])\n",
      "x * y tensor([[ 2,  2],\n",
      "        [12, 12]])\n",
      "x^2 tensor([[ 1,  4],\n",
      "        [ 9, 16]])\n",
      "sum(x) tensor(10)\n",
      "mean(x) tensor(2.5000)\n"
     ]
    }
   ],
   "source": [
    "x = torch.tensor([[1,2],[3,4]])\n",
    "y = torch.tensor([[2,1],[4,3]])\n",
    "\n",
    "# addition\n",
    "print('x + y', x + y)\n",
    "# subtraction\n",
    "print('x - y', x - y)\n",
    "# matrix multiplication (dot product)\n",
    "# column number of the former matrix must equals row number of the latter matrix\n",
    "print('xy', torch.matmul(x,y))\n",
    "print('yx', torch.matmul(y,x))\n",
    "print('xy', x@y)\n",
    "# element-wise multiplication\n",
    "print('x * y', x * y)\n",
    "print('x * y', torch.mul(x,y))\n",
    "# power\n",
    "print('x^2',x.pow(2))\n",
    "# summation, returns a scalar\n",
    "print('sum(x)',x.sum())\n",
    "# average\n",
    "print('mean(x)',x.to(torch.float32).mean())"
   ]
  },
  {
   "cell_type": "markdown",
   "metadata": {
    "id": "BZh12kYoptbn"
   },
   "source": [
    "#### **Transpose**"
   ]
  },
  {
   "cell_type": "code",
   "execution_count": 9,
   "metadata": {
    "id": "vLLi0_0Mpv6o"
   },
   "outputs": [
    {
     "name": "stdout",
     "output_type": "stream",
     "text": [
      "tensor([[[1, 2],\n",
      "         [3, 4]],\n",
      "\n",
      "        [[5, 6],\n",
      "         [7, 8]]]) torch.Size([2, 2, 2])\n",
      "tensor([[[1, 5],\n",
      "         [3, 7]],\n",
      "\n",
      "        [[2, 6],\n",
      "         [4, 8]]]) torch.Size([2, 2, 2])\n"
     ]
    }
   ],
   "source": [
    "x = torch.tensor([[[1,2],[3,4]],[[5,6],[7,8]]])\n",
    "print(x, x.shape)\n",
    "\n",
    "x = x.transpose(0,2)\n",
    "print(x, x.shape)"
   ]
  },
  {
   "cell_type": "markdown",
   "metadata": {
    "id": "ttr9Uh8qt2Yn"
   },
   "source": [
    "#### **Concatenate**"
   ]
  },
  {
   "cell_type": "code",
   "execution_count": 10,
   "metadata": {
    "id": "Qr2uLe2nt7Au"
   },
   "outputs": [
    {
     "name": "stdout",
     "output_type": "stream",
     "text": [
      "torch.Size([2])\n",
      "tensor([3, 4, 1, 2])\n",
      "torch.Size([1, 2, 7])\n"
     ]
    }
   ],
   "source": [
    "x = torch.tensor([1,2])\n",
    "y = torch.tensor([3,4])\n",
    "print(x.shape)\n",
    "print(torch.cat([y,x]))\n",
    "# print('vstack', torch.vstack([x,y]))\n",
    "\n",
    "\n",
    "x = torch.zeros([1,2,3])\n",
    "y = torch.zeros([1,2,4])\n",
    "z = torch.zeros([5,2,7])\n",
    "\n",
    "w = torch.cat([x,y],dim=2)\n",
    "print(w.shape)\n",
    "\n",
    "# u = torch.cat([z,w],dim=1)"
   ]
  },
  {
   "cell_type": "markdown",
   "metadata": {
    "id": "0SQOR0cgNZMY"
   },
   "source": [
    "#### **Reshape**"
   ]
  },
  {
   "cell_type": "code",
   "execution_count": 11,
   "metadata": {
    "colab": {
     "base_uri": "https://localhost:8080/"
    },
    "id": "zjMuHYh7NcAn",
    "outputId": "4a735638-8412-4bd9-a7fe-e372eee7a2f7"
   },
   "outputs": [
    {
     "name": "stdout",
     "output_type": "stream",
     "text": [
      "tensor([1, 1, 2, 2, 3, 3, 4, 4])\n"
     ]
    }
   ],
   "source": [
    "x = torch.tensor([\n",
    "    [1,1],\n",
    "    [2,2],\n",
    "    [3,3],\n",
    "    [4,4],\n",
    "])\n",
    "\n",
    "# x.reshape(8,1)\n",
    "x = x.reshape(8,)\n",
    "print(x)\n",
    "\n",
    "def flatten(x):\n",
    "  x = x.reshape(1,-1)\n",
    "  x = x.squeeze()\n",
    "\n",
    "# view() only works on contiguous tensors, but the reshaped tensor shares data with the original one\n",
    "# x = x.view(8)"
   ]
  },
  {
   "cell_type": "markdown",
   "metadata": {
    "id": "mkyt9u-6ovei"
   },
   "source": [
    "#### **Squeeze and Unsqueeze**"
   ]
  },
  {
   "cell_type": "code",
   "execution_count": 12,
   "metadata": {
    "id": "e0wv5jqgolXz"
   },
   "outputs": [
    {
     "name": "stdout",
     "output_type": "stream",
     "text": [
      "original tensor tensor([[[1, 1, 1]]], dtype=torch.int8) torch.Size([1, 1, 3])\n",
      "after squeezing tensor([1, 1, 1], dtype=torch.int8) torch.Size([3])\n",
      "after unsqueezing tensor([[1],\n",
      "        [1],\n",
      "        [1]], dtype=torch.int8) torch.Size([3, 1])\n",
      "squeeze a wrong dimension tensor([[1],\n",
      "        [1],\n",
      "        [1]], dtype=torch.int8) torch.Size([3, 1])\n"
     ]
    }
   ],
   "source": [
    "x = torch.ones(1,1,3,dtype=torch.int8)\n",
    "print('original tensor', x, x.shape)\n",
    "x = x.squeeze()\n",
    "print('after squeezing', x, x.shape)\n",
    "x = x.unsqueeze(1)\n",
    "print('after unsqueezing', x, x.shape)\n",
    "\n",
    "x = x.squeeze(0)\n",
    "print('squeeze a wrong dimension', x, x.shape)"
   ]
  },
  {
   "cell_type": "markdown",
   "metadata": {
    "id": "yEKduDaqvozq"
   },
   "source": [
    "## **Gradient**"
   ]
  },
  {
   "cell_type": "code",
   "execution_count": 13,
   "metadata": {
    "colab": {
     "base_uri": "https://localhost:8080/"
    },
    "id": "STs00udz24no",
    "outputId": "1f0d925d-8a0f-4b67-b9a8-50b4652037b3"
   },
   "outputs": [
    {
     "data": {
      "text/plain": [
       "tensor([[ 2.,  0.],\n",
       "        [-2.,  2.]])"
      ]
     },
     "execution_count": 13,
     "metadata": {},
     "output_type": "execute_result"
    }
   ],
   "source": [
    "x = torch.tensor([[1.,0.],[-1.,1.]],requires_grad=True)\n",
    "y = x.pow(2)\n",
    "# with weights of all outputs being 1\n",
    "z = y.sum()\n",
    "z.backward()\n",
    "\n",
    "# add weights to different losses\n",
    "# mask = torch.tensor([[1,0],[2,0]])\n",
    "# y.backward(mask)\n",
    "\n",
    "x.grad"
   ]
  },
  {
   "cell_type": "markdown",
   "metadata": {
    "id": "YoNT5hqcdPeM"
   },
   "source": [
    "# **Image Classfication (MNIST) with CNN**"
   ]
  },
  {
   "cell_type": "markdown",
   "metadata": {
    "id": "JbPhK2EBfrg4"
   },
   "source": [
    "## **About the Dataset**\n",
    "\n",
    "The MNIST database of handwritten digits, available from this page, has a training set of 60,000 examples, and a test set of 10,000 examples.\n",
    "\n",
    "It is a subset of a larger set available from NIST. The digits have been size-normalized and centered in a fixed-size image.\n",
    "\n",
    "It is a good database for people who want to try learning techniques and pattern recognition methods on real-world data while spending minimal efforts on preprocessing and formatting."
   ]
  },
  {
   "cell_type": "markdown",
   "metadata": {
    "id": "Mhg5yPZYd5R0"
   },
   "source": [
    "## **Transforms, Dataset, and Data Loader**\n",
    "\n",
    "Torchvision provides lots of useful utilities for image preprocessing, data wrapping as well as data augmentation.\n",
    "\n",
    "Here, since our data are stored in folders by class labels, we can directly apply **torchvision.datasets.DatasetFolder** for wrapping data without much effort.\n",
    "\n",
    "Please refer to [PyTorch official website](https://pytorch.org/vision/stable/transforms.html) for details about different transforms."
   ]
  },
  {
   "cell_type": "markdown",
   "metadata": {
    "id": "IqwkWDvheMHA"
   },
   "source": [
    "### **Transforms**"
   ]
  },
  {
   "cell_type": "code",
   "execution_count": 14,
   "metadata": {
    "id": "Ge7mAEI1eJBs"
   },
   "outputs": [],
   "source": [
    "# Transforms\n",
    "# transforms.Compose() takes a list of functions as argument, composes them together\n",
    "my_transforms = transforms.Compose(\n",
    "    [\n",
    "     # convert the image from other format to torch tensor\n",
    "     transforms.ToTensor(),\n",
    "     ]\n",
    ")\n",
    "\n",
    "# Here is example of transforms\n",
    "# Note: This transform is not optimal!\n",
    "# my_transforms = transforms.Compose(\n",
    "#     [  # Compose makes it possible to have many transforms\n",
    "#         transforms.Resize((36, 36)),  # Resizes (28,28) to (36,36)\n",
    "#         transforms.RandomCrop((28, 28)),  # Takes a random (28,28) crop\n",
    "#         transforms.ColorJitter(brightness=0.5),  # Change brightness of image\n",
    "#         transforms.RandomRotation(degrees=45),  # Perhaps a random rotation from -45 to 45 degrees\n",
    "#         transforms.RandomHorizontalFlip(p=0.5),  # Flips the image horizontally with probability 0.5\n",
    "#         transforms.RandomVerticalFlip(p=0.05),  # Flips image vertically with probability 0.05\n",
    "#         transforms.RandomGrayscale(p=0.2),  # Converts to grayscale with probability 0.2\n",
    "#         transforms.ToTensor(),  # Finally converts PIL image to tensor so we can train w. pytorch\n",
    "#         transforms.RandomErasing(scale=(0.04, 0.2), ratio=(0.5, 2)), # Randomly selects a rectangle region in an torch Tensor image and erases its pixels.\n",
    "#         transforms.Normalize(mean=0.5, std=0.5),\n",
    "#     ]\n",
    "# )"
   ]
  },
  {
   "cell_type": "markdown",
   "metadata": {
    "id": "4w27-pcLeVP5"
   },
   "source": [
    "### **Get Dataset**"
   ]
  },
  {
   "cell_type": "code",
   "execution_count": 15,
   "metadata": {
    "id": "4sTQ9CADenZ5"
   },
   "outputs": [],
   "source": [
    "# Download the dataset\n",
    "train_dataset = datasets.MNIST(root=\"dataset/\", train=True, transform=my_transforms, download=True)\n",
    "test_dataset = datasets.MNIST(root=\"dataset/\", train=False, transform=transforms.Compose([transforms.ToTensor()]),download=True)"
   ]
  },
  {
   "cell_type": "markdown",
   "metadata": {
    "id": "zrV-K5FMebO_"
   },
   "source": [
    "### **Load Data**"
   ]
  },
  {
   "cell_type": "code",
   "execution_count": 16,
   "metadata": {
    "id": "gVIxrm1CesML"
   },
   "outputs": [],
   "source": [
    "# Load Data\n",
    "batch_size = 128\n",
    "train_loader = torch.utils.data.DataLoader(dataset=train_dataset, batch_size=batch_size, shuffle=True, num_workers=1, pin_memory=True)\n",
    "test_loader = torch.utils.data.DataLoader(dataset=test_dataset, batch_size=batch_size, shuffle=True, num_workers=1, pin_memory=True)"
   ]
  },
  {
   "cell_type": "markdown",
   "metadata": {
    "id": "6ZyIyZK2dKN_"
   },
   "source": [
    "## **Data Visulization**"
   ]
  },
  {
   "cell_type": "code",
   "execution_count": 17,
   "metadata": {
    "id": "-iaUkcQFgAVo"
   },
   "outputs": [
    {
     "name": "stdout",
     "output_type": "stream",
     "text": [
      "Labels: tensor([6, 0, 9, 7, 6, 6, 1, 7, 6, 1, 6, 2, 4, 5, 3])\n"
     ]
    },
    {
     "data": {
      "image/png": "[encoded data removed]",
      "text/plain": [
       "<Figure size 2000x2000 with 1 Axes>"
      ]
     },
     "metadata": {},
     "output_type": "display_data"
    }
   ],
   "source": [
    "# Random pick a sample to plot\n",
    "sample = next(iter(train_loader))\n",
    "imgs, lbls = sample\n",
    "# Plot the sample\n",
    "plt.figure(figsize=(20,20))\n",
    "grid = torchvision.utils.make_grid(nrow=16, tensor=imgs[:15])\n",
    "plt.imshow(np.transpose(grid, axes=(1,2,0)), cmap='gray');\n",
    "print('Labels: {}'.format(lbls[:15]))"
   ]
  },
  {
   "cell_type": "markdown",
   "metadata": {
    "id": "w_KdFZR7l0vV"
   },
   "source": [
    "## **Convolutional Neural Network**"
   ]
  },
  {
   "cell_type": "markdown",
   "metadata": {
    "id": "tny3wPVkhbNW"
   },
   "source": [
    "### **Tensor shapes after different layers**"
   ]
  },
  {
   "cell_type": "markdown",
   "metadata": {
    "id": "-mLPWVNthllN"
   },
   "source": [
    "Output size = [(W - K + 2 * P) / S] + 1\n",
    "\n",
    "W is the input size\n",
    "\n",
    "K is the kernel size\n",
    "\n",
    "P is the padding\n",
    "\n",
    "S is the stride\n",
    "\n",
    "Specifically,\n",
    "\n",
    "Output height = (Input height + padding height top + padding height bottom - kernel height) / (stride height) + 1\n",
    "\n",
    "Output width = (Output width + padding width right + padding width left - kernel width) / (stride width) + 1"
   ]
  },
  {
   "cell_type": "code",
   "execution_count": 18,
   "metadata": {
    "colab": {
     "base_uri": "https://localhost:8080/"
    },
    "id": "Frkg0UCqGrI0",
    "outputId": "3c68c08f-96fd-4e42-db3f-582c689a3242"
   },
   "outputs": [
    {
     "name": "stdout",
     "output_type": "stream",
     "text": [
      "torch.Size([20, 26, 26])\n",
      "torch.Size([20, 13, 13])\n",
      "torch.Size([50, 9, 9])\n",
      "torch.Size([50, 4, 4])\n"
     ]
    }
   ],
   "source": [
    "target = torch.zeros(1, 30, 30)\n",
    "cov_layer = nn.Conv2d(1,20,5,1)\n",
    "# after 1 convolutional layer\n",
    "target = cov_layer(target)\n",
    "print(target.shape)\n",
    "# after 1 max pooling layer\n",
    "target = F.max_pool2d(target,2,2)\n",
    "print(target.shape)\n",
    "# another convolutional layer\n",
    "target = nn.Conv2d(20, 50, 5, 1)(target)\n",
    "print(target.shape)\n",
    "# another max pooling layer\n",
    "target = F.max_pool2d(target,2,2)\n",
    "print(target.shape)"
   ]
  },
  {
   "cell_type": "markdown",
   "metadata": {
    "id": "i455_JrKqhJD"
   },
   "source": [
    "### **Define model (15pts)**"
   ]
  },
  {
   "cell_type": "code",
   "execution_count": 123,
   "metadata": {
    "id": "c05BuCoZkc4r"
   },
   "outputs": [],
   "source": [
    "# Feel free to change the training parameters here.\n",
    "class CNN(nn.Module):\n",
    "  def __init__(self):\n",
    "    super(CNN,self).__init__()\n",
    "    # (10 pts)TODO: define 2 convolutional layers and 2 FC layers\n",
    "    self.in_channels = 1\n",
    "    self.hidden = [20,50,50*4*4,32]\n",
    "    self.out_channels = 10\n",
    "    self.conv1 = nn.Conv2d(in_channels=self.in_channels, out_channels=self.hidden[0], kernel_size=5)\n",
    "    self.conv2 = nn.Conv2d(in_channels=self.hidden[0], out_channels=self.hidden[1], kernel_size=5)\n",
    "    self.fc1 = nn.Linear(in_features=self.hidden[2], out_features=self.hidden[3])\n",
    "    self.fc2 = nn.Linear(in_features=self.hidden[3], out_features=self.out_channels)\n",
    "\n",
    "  def forward(self,x):\n",
    "    x=F.relu(self.conv1(x))\n",
    "    x=F.max_pool2d(x,2,2)\n",
    "    x=F.relu(self.conv2(x))\n",
    "    x=F.max_pool2d(x,2,2)\n",
    "    x=x.view(x.shape[0],-1) # (5pt)TODO: use proper dimension\n",
    "    x=F.relu(self.fc1(x))\n",
    "    x=self.fc2(x)\n",
    "    return F.log_softmax(x,dim=1)"
   ]
  },
  {
   "cell_type": "markdown",
   "metadata": {
    "id": "pw6jjgjdqWnc"
   },
   "source": [
    "### **Training (15pts)**"
   ]
  },
  {
   "cell_type": "code",
   "execution_count": 119,
   "metadata": {
    "id": "exF0vNSFodfg"
   },
   "outputs": [],
   "source": [
    "def train(model,device,loader,optimizer,epoch,criterion):\n",
    "  model.train()\n",
    "  for i, (data,label) in enumerate(loader):\n",
    "    data,label=data.to(device),label.to(device)\n",
    "    pred=model(data)\n",
    "\n",
    "    loss=criterion(pred,label)\n",
    "\n",
    "    optimizer.zero_grad() # (5pt)TODO: Zero out gradients of optimizer\n",
    "    loss.backward() # (5pt)TODO: Loss backward\n",
    "    optimizer.step() # (5pt)TODO: Gradient descent update step for optimizer\n",
    "    if i == 0:\n",
    "      print('Epoch: {}, loss:{}'.format(epoch+1,loss.item()))"
   ]
  },
  {
   "cell_type": "markdown",
   "metadata": {
    "id": "QjnLypLvqZO-"
   },
   "source": [
    "### **Testing**"
   ]
  },
  {
   "cell_type": "code",
   "execution_count": 120,
   "metadata": {
    "id": "qZrDkRSNodo1"
   },
   "outputs": [],
   "source": [
    "def test(model,device,loader):\n",
    "  model.eval()\n",
    "  total_loss=0\n",
    "  correct=0\n",
    "  for i, (data,label) in enumerate(loader):\n",
    "    data,label=data.to(device),label.to(device)\n",
    "    output=model(data)\n",
    "\n",
    "    pred=output.argmax(dim=1)\n",
    "    correct+=pred.eq(label.view_as(pred)).sum().item()\n",
    "  total_loss/=len(loader.dataset)\n",
    "  acc=correct/len(loader.dataset)\n",
    "  print('Test accuracy: {}%'.format(acc*100))"
   ]
  },
  {
   "cell_type": "markdown",
   "metadata": {
    "id": "vigZTxKoitey"
   },
   "source": [
    "### **Hyper-parameters and optimizer (10pts)**"
   ]
  },
  {
   "cell_type": "code",
   "execution_count": 124,
   "metadata": {
    "id": "uMU0NiNZqy-x"
   },
   "outputs": [],
   "source": [
    "# Feel free to change the training parameters here.\n",
    "nums_epoch=20 # Every 10 epochs may require an additional 2 minutes of training.\n",
    "lr=1e-4 # learning rate\n",
    "momentum=0.9\n",
    "\n",
    "device = torch.device('cuda' if torch.cuda.is_available() else 'cpu')\n",
    "model=CNN().to(device)\n",
    "optimizer=optim.SGD(model.parameters(), lr=lr, momentum=momentum) # (5pt)TODO: use SGD optimizer\n",
    "criterion=nn.NLLLoss(reduction='mean', size_average=None) # (5pt)TODO: Use negative log likelihood as loss criterion"
   ]
  },
  {
   "cell_type": "markdown",
   "metadata": {
    "id": "XWGvbcj1qwMU"
   },
   "source": [
    "### **Start Training!**"
   ]
  },
  {
   "cell_type": "markdown",
   "metadata": {
    "id": "8k2a1rERVV8Y"
   },
   "source": [
    "The above default setting will garuntee an accuracy of 90% here and you may try different parameter to see the difference."
   ]
  },
  {
   "cell_type": "code",
   "execution_count": 125,
   "metadata": {
    "id": "gNWuKG2SrD9y"
   },
   "outputs": [
    {
     "name": "stdout",
     "output_type": "stream",
     "text": [
      "Epoch: 1, loss:2.3217976093292236\n",
      "Test accuracy: 10.27%\n",
      "Epoch: 2, loss:2.2818212509155273\n",
      "Test accuracy: 15.290000000000001%\n",
      "Epoch: 3, loss:2.275848150253296\n",
      "Test accuracy: 22.95%\n",
      "Epoch: 4, loss:2.222773551940918\n",
      "Test accuracy: 29.609999999999996%\n",
      "Epoch: 5, loss:2.1541714668273926\n",
      "Test accuracy: 45.89%\n",
      "Epoch: 6, loss:2.0606026649475098\n",
      "Test accuracy: 62.23%\n",
      "Epoch: 7, loss:1.8237825632095337\n",
      "Test accuracy: 71.21%\n",
      "Epoch: 8, loss:1.3698883056640625\n",
      "Test accuracy: 78.01%\n",
      "Epoch: 9, loss:1.031718134880066\n",
      "Test accuracy: 82.26%\n",
      "Epoch: 10, loss:0.7486787438392639\n",
      "Test accuracy: 84.38%\n",
      "Epoch: 11, loss:0.6569405794143677\n",
      "Test accuracy: 85.88%\n",
      "Epoch: 12, loss:0.5892332196235657\n",
      "Test accuracy: 87.27000000000001%\n",
      "Epoch: 13, loss:0.39799928665161133\n",
      "Test accuracy: 88.24%\n",
      "Epoch: 14, loss:0.3952799439430237\n",
      "Test accuracy: 88.59%\n",
      "Epoch: 15, loss:0.4410941004753113\n",
      "Test accuracy: 89.13%\n",
      "Epoch: 16, loss:0.3957124948501587\n",
      "Test accuracy: 89.46%\n",
      "Epoch: 17, loss:0.3865669071674347\n",
      "Test accuracy: 90.22%\n",
      "Epoch: 18, loss:0.3444087505340576\n",
      "Test accuracy: 90.24%\n",
      "Epoch: 19, loss:0.41717204451560974\n",
      "Test accuracy: 90.75%\n",
      "Epoch: 20, loss:0.2919999957084656\n",
      "Test accuracy: 91.16%\n"
     ]
    }
   ],
   "source": [
    "for epoch in range(nums_epoch):\n",
    "  train(model,device,train_loader,optimizer,epoch,criterion)\n",
    "  test(model,device,test_loader)\n"
   ]
  },
  {
   "cell_type": "markdown",
   "metadata": {
    "id": "bzy7P6qPDVGb"
   },
   "source": [
    "# **Image classfication with CIFAR10 dataset**"
   ]
  },
  {
   "cell_type": "markdown",
   "metadata": {
    "id": "dLIQ7faYEQzu"
   },
   "source": [
    "In this section, you are required to build a simple convolutional neural network for image classification, possibly with some advanced training tips."
   ]
  },
  {
   "cell_type": "markdown",
   "metadata": {
    "id": "--dbQN6uDyRr"
   },
   "source": [
    "## **About the Dataset**\n",
    "\n",
    "The CIFAR-10 dataset consists of 60000 32x32 colour images in 10 classes, with 6000 images per class. There are 50000 training images and 10000 test images.\n",
    "\n",
    "The dataset is divided into five training batches and one test batch, each with 10000 images. The test batch contains exactly 1000 randomly-selected images from each class. The training batches contain the remaining images in random order, but some training batches may contain more images from one class than another. Between them, the training batches contain exactly 5000 images from each class.\n"
   ]
  },
  {
   "cell_type": "markdown",
   "metadata": {
    "id": "pkd7L02GEu_z"
   },
   "source": [
    "## **Now, it's your time!**"
   ]
  },
  {
   "cell_type": "code",
   "execution_count": 400,
   "metadata": {
    "colab": {
     "base_uri": "https://localhost:8080/",
     "height": 101,
     "referenced_widgets": [
      "cb017bf9738b4288862617dae51fbe2d",
      "8141ea3902d34b79a8fc28fd0337136b",
      "3ec7ecdd59bd416abd10d0dc9fe03b59",
      "c3cfb4b6037145b9bf0e194b0edf862d",
      "167adc7216304368b9e2e2543f87bca4",
      "e8a83bd722c24e0084cd24de86311c5a",
      "31c7f1630691421b846c0286f820a812",
      "5c79b21ed53d40e39bde0e51ef991ddc",
      "d7c922319e094abcb3c63a0890204929",
      "4d0fa35fadd448fab8eaf20cf674a118",
      "663be0ea8ffe4a3aa366e1f6ec094ac7"
     ]
    },
    "id": "mi4WtCqLqzJH",
    "outputId": "0455dfd1-4512-45b1-e149-b62f64ad30f8"
   },
   "outputs": [
    {
     "name": "stdout",
     "output_type": "stream",
     "text": [
      "Files already downloaded and verified\n",
      "Files already downloaded and verified\n"
     ]
    }
   ],
   "source": [
    "# You may define your own transforms to achieve a higher accuracy.\n",
    "\n",
    "transform_train = transforms.Compose([\n",
    "    transforms.RandomHorizontalFlip(),  # Randomly flip images horizontally\n",
    "    transforms.RandomCrop(32, padding=4),  # Randomly crop images with padding\n",
    "    transforms.ColorJitter(brightness=0.2, contrast=0.2, saturation=0.2, hue=0.1),  # Adjust brightness, contrast, saturation, and hue\n",
    "    transforms.RandomRotation(10),  # Randomly rotate images by up to 10 degrees\n",
    "    transforms.ToTensor(),  # Convert images to PyTorch tensors\n",
    "    transforms.Normalize((0.5, 0.5, 0.5), (0.5, 0.5, 0.5))  # Normalize pixel values to the range [-1, 1]\n",
    "])\n",
    "\n",
    "# Define transforms for test data (no data augmentation)\n",
    "transform_test = transforms.Compose([\n",
    "    transforms.ToTensor(),\n",
    "    transforms.Normalize((0.5, 0.5, 0.5), (0.5, 0.5, 0.5))\n",
    "])\n",
    "\n",
    "train_dataset_CIFAR10 = datasets.CIFAR10(root=\"dataset/\", train=True, transform=transform_train, download=True)\n",
    "test_dataset_CIFAR10 = datasets.CIFAR10(root=\"dataset/\", train=False, transform=transform_test,download=True)\n",
    "\n",
    "\n",
    "# Load Data\n",
    "batch_size_CIFAR10 = 128\n",
    "train_loader_CIFAR10 = torch.utils.data.DataLoader(dataset=train_dataset_CIFAR10, batch_size=batch_size_CIFAR10, shuffle=True, num_workers=1, pin_memory=True)\n",
    "test_loader_CIFAR10 = torch.utils.data.DataLoader(dataset=test_dataset_CIFAR10, batch_size=batch_size_CIFAR10, shuffle=True, num_workers=1, pin_memory=True)"
   ]
  },
  {
   "cell_type": "markdown",
   "metadata": {
    "id": "7ZrhbUQXYV6J"
   },
   "source": [
    "### **Data Visulization**"
   ]
  },
  {
   "cell_type": "code",
   "execution_count": 401,
   "metadata": {
    "colab": {
     "base_uri": "https://localhost:8080/",
     "height": 146
    },
    "id": "PSivk3pOYSbC",
    "outputId": "1a3ed9bb-48e7-4d3b-cb82-af059e141848"
   },
   "outputs": [
    {
     "name": "stderr",
     "output_type": "stream",
     "text": [
      "Clipping input data to the valid range for imshow with RGB data ([0..1] for floats or [0..255] for integers).\n"
     ]
    },
    {
     "data": {
      "image/png": "[encoded data removed]",
      "text/plain": [
       "<Figure size 2000x2000 with 1 Axes>"
      ]
     },
     "metadata": {},
     "output_type": "display_data"
    }
   ],
   "source": [
    "# Random pick a sample to plot\n",
    "sample = next(iter(train_loader_CIFAR10))\n",
    "imgs, lbls = sample\n",
    "\n",
    "# Plot the sample\n",
    "plt.figure(figsize=(20,20))\n",
    "grid = torchvision.utils.make_grid(nrow=16, tensor=imgs[:15])\n",
    "plt.imshow(np.transpose(grid, axes=(1,2,0)), cmap='gray');"
   ]
  },
  {
   "cell_type": "markdown",
   "metadata": {
    "id": "guJoV63oGZ7k"
   },
   "source": [
    "### **Define model (30pts)**"
   ]
  },
  {
   "cell_type": "code",
   "execution_count": 402,
   "metadata": {
    "id": "B0meR7BKK6hW"
   },
   "outputs": [],
   "source": [
    "class CNN_CIFAR10(nn.Module):\n",
    "    def __init__(self):\n",
    "        super(CNN_CIFAR10, self).__init__()\n",
    "        # (30pts) TODO: build a network you like\n",
    "        self.in_channels = 3\n",
    "        self.hidden = [256,128,64,32,16,8]\n",
    "        self.out_channels = 10\n",
    "        self.conv1 = nn.Conv2d(in_channels=self.in_channels, out_channels=self.hidden[0], kernel_size=5, padding=5)\n",
    "        self.conv2 = nn.Conv2d(in_channels=self.hidden[0], out_channels=self.hidden[1], kernel_size=5, padding=5)\n",
    "        self.conv3 = nn.Conv2d(in_channels=self.hidden[1], out_channels=self.hidden[2], kernel_size=5, padding=5)\n",
    "        self.conv4 = nn.Conv2d(in_channels=self.hidden[2], out_channels=self.hidden[3], kernel_size=5, padding=5)\n",
    "        self.conv5 = nn.Conv2d(in_channels=self.hidden[3], out_channels=self.hidden[4], kernel_size=5, padding=0)\n",
    "        self.fc1 = nn.Linear(in_features=self.hidden[4], out_features=self.hidden[5])\n",
    "        self.fc2 = nn.Linear(in_features=self.hidden[5], out_features=self.out_channels)\n",
    "\n",
    "    def forward(self,x):\n",
    "#         x = self.network(x)\n",
    "        x=F.relu(self.conv1(x))\n",
    "        x=F.max_pool2d(x,2,2)\n",
    "        x=F.relu(self.conv2(x))\n",
    "        x=F.max_pool2d(x,2,2)\n",
    "        x=F.relu(self.conv3(x))\n",
    "        x=F.max_pool2d(x,2,2)\n",
    "        x=F.relu(self.conv4(x))\n",
    "        x=F.max_pool2d(x,2,2)\n",
    "        x=F.relu(self.conv5(x))\n",
    "        x=F.max_pool2d(x,2,2)\n",
    "        x=x.view(x.shape[0],-1)\n",
    "        x=F.relu(self.fc1(x))\n",
    "        x=self.fc2(x)\n",
    "        return F.log_softmax(x,dim=1)\n",
    "\n",
    "        \n"
   ]
  },
  {
   "cell_type": "markdown",
   "metadata": {
    "id": "J0LI_xpMGd7g"
   },
   "source": [
    "### **Hyper-parameters and optimizer (25pts)**"
   ]
  },
  {
   "cell_type": "code",
   "execution_count": 403,
   "metadata": {
    "id": "L_cvOa8WGqcb"
   },
   "outputs": [],
   "source": [
    "nums_epoch =  100 #(5pt)TODO\n",
    "lr =  0.01 #(5pt)TODO\n",
    "momentum =  0.75 #(5pt)TODO\n",
    "device = torch.device(\"cuda\")\n",
    "model = CNN_CIFAR10().to(device)\n",
    "criterion =  nn.CrossEntropyLoss() #(5pt)TODO\n",
    "optimizer_CIFAR10 =  optim.SGD(model.parameters(), lr=lr, momentum=momentum) #(5pt)TODO"
   ]
  },
  {
   "cell_type": "markdown",
   "metadata": {
    "id": "nky6uWzHGdXo"
   },
   "source": [
    "### **Training (5pts)**"
   ]
  },
  {
   "cell_type": "code",
   "execution_count": 404,
   "metadata": {
    "id": "G8PmuQOZlivI"
   },
   "outputs": [],
   "source": [
    "def train_CIFAR10(model,device,loader,optimizer,epoch,criterion):\n",
    "  #(5pts) TODO: refer to the training process above\n",
    "    model.train()\n",
    "    for i, (data,label) in enumerate(loader):\n",
    "        data,label=data.to(device),label.to(device)\n",
    "        pred=model(data)\n",
    "        loss=criterion(pred,label)\n",
    "\n",
    "        optimizer.zero_grad() # (5pt)TODO: Zero out gradients of optimizer\n",
    "        loss.backward() # (5pt)TODO: Loss backward\n",
    "        optimizer.step() # (5pt)TODO: Gradient descent update step for optimizer\n",
    "        if i == 0:\n",
    "          print('Epoch: {}, loss:{}'.format(epoch+1,loss.item()))"
   ]
  },
  {
   "cell_type": "markdown",
   "metadata": {
    "id": "fSxmBAJ9Gdvw"
   },
   "source": [
    "### **Testing**"
   ]
  },
  {
   "cell_type": "code",
   "execution_count": 405,
   "metadata": {
    "id": "6RILtmRAGqIF"
   },
   "outputs": [],
   "source": [
    "def test_CIFAR10(model,device,loader):\n",
    "  model.eval()\n",
    "  num_correct=0\n",
    "  num_total=0\n",
    "  for i, (data,label) in enumerate(loader):\n",
    "    data,label=data.to(device),label.to(device)\n",
    "\n",
    "    output=model(data)\n",
    "\n",
    "    _, pred = output.max(1)\n",
    "\n",
    "    num_correct += (pred == label).sum()\n",
    "    num_total  += len(label)\n",
    "  print('Accuracy: {}%'.format(num_correct/num_total*100))"
   ]
  },
  {
   "cell_type": "markdown",
   "metadata": {
    "id": "QMLBiN8IGeGS"
   },
   "source": [
    "### **Start Training and challenge yourself!**"
   ]
  },
  {
   "cell_type": "markdown",
   "metadata": {
    "id": "HJMq7sGSXiU6"
   },
   "source": [
    "Hint for achieve higher accuracy:\n",
    "*   Use deeper network (more convolutional layers), but not be too many.\n",
    "*   Try different hyper-parameters.\n",
    "*   Utilize different loss function.\n",
    "*   Continue training until the loss function converges (more epochs).\n",
    "*   Apply proper transforms.\n",
    "\n",
    "Congratulations if you achieved 90% accuracy on test dataset and it is super challege.\n",
    "\n",
    "Note: It is irrelevant if you do not achieve it, as the grade is not based on accuracy. It is just a challenge if you're interested in this task."
   ]
  },
  {
   "cell_type": "code",
   "execution_count": 406,
   "metadata": {
    "id": "7j5PW_O7Gqx-"
   },
   "outputs": [
    {
     "name": "stdout",
     "output_type": "stream",
     "text": [
      "Epoch: 1, loss:2.3232569694519043\n",
      "Accuracy: 15.519998550415039%\n",
      "Epoch: 2, loss:2.2953288555145264\n",
      "Accuracy: 25.229999542236328%\n",
      "Epoch: 3, loss:2.0018842220306396\n",
      "Accuracy: 27.249998092651367%\n",
      "Epoch: 4, loss:1.7574231624603271\n",
      "Accuracy: 35.06999969482422%\n",
      "Epoch: 5, loss:1.7852258682250977\n",
      "Accuracy: 40.6099967956543%\n",
      "Epoch: 6, loss:1.72581148147583\n",
      "Accuracy: 46.04999923706055%\n",
      "Epoch: 7, loss:1.4741631746292114\n",
      "Accuracy: 49.499996185302734%\n",
      "Epoch: 8, loss:1.3835384845733643\n",
      "Accuracy: 51.31999969482422%\n",
      "Epoch: 9, loss:1.3516806364059448\n",
      "Accuracy: 53.9900016784668%\n",
      "Epoch: 10, loss:1.3198570013046265\n",
      "Accuracy: 59.63999557495117%\n",
      "Epoch: 11, loss:1.2103809118270874\n",
      "Accuracy: 62.19999694824219%\n",
      "Epoch: 12, loss:1.1360822916030884\n",
      "Accuracy: 59.52999496459961%\n",
      "Epoch: 13, loss:1.1919264793395996\n",
      "Accuracy: 62.279998779296875%\n",
      "Epoch: 14, loss:0.9038586020469666\n",
      "Accuracy: 65.02000427246094%\n",
      "Epoch: 15, loss:1.0910165309906006\n",
      "Accuracy: 66.9699935913086%\n",
      "Epoch: 16, loss:0.879299521446228\n",
      "Accuracy: 69.31999969482422%\n",
      "Epoch: 17, loss:1.0403858423233032\n",
      "Accuracy: 69.90999603271484%\n",
      "Epoch: 18, loss:0.8085131049156189\n",
      "Accuracy: 72.33000183105469%\n",
      "Epoch: 19, loss:0.9027583599090576\n",
      "Accuracy: 72.41999816894531%\n",
      "Epoch: 20, loss:0.8541848659515381\n",
      "Accuracy: 73.8499984741211%\n",
      "Epoch: 21, loss:0.8718527555465698\n",
      "Accuracy: 74.0999984741211%\n",
      "Epoch: 22, loss:0.7265145182609558\n",
      "Accuracy: 75.20999908447266%\n",
      "Epoch: 23, loss:0.5671804547309875\n",
      "Accuracy: 73.94999694824219%\n",
      "Epoch: 24, loss:0.8297208547592163\n",
      "Accuracy: 75.87999725341797%\n",
      "Epoch: 25, loss:0.8014603853225708\n",
      "Accuracy: 77.16999816894531%\n",
      "Epoch: 26, loss:0.8423078656196594\n",
      "Accuracy: 76.63999938964844%\n",
      "Epoch: 27, loss:0.7828748226165771\n",
      "Accuracy: 78.19999694824219%\n",
      "Epoch: 28, loss:0.8111542463302612\n",
      "Accuracy: 77.91000366210938%\n",
      "Epoch: 29, loss:0.7663406133651733\n",
      "Accuracy: 78.54000091552734%\n",
      "Epoch: 30, loss:0.6305789351463318\n",
      "Accuracy: 77.8499984741211%\n",
      "Epoch: 31, loss:0.5933029651641846\n",
      "Accuracy: 78.82999420166016%\n",
      "Epoch: 32, loss:0.7131613492965698\n",
      "Accuracy: 79.06999206542969%\n",
      "Epoch: 33, loss:0.5048377513885498\n",
      "Accuracy: 79.6399917602539%\n",
      "Epoch: 34, loss:0.49289265275001526\n",
      "Accuracy: 79.12999725341797%\n",
      "Epoch: 35, loss:0.6729534268379211\n",
      "Accuracy: 80.1199951171875%\n",
      "Epoch: 36, loss:0.521094799041748\n",
      "Accuracy: 80.02999877929688%\n",
      "Epoch: 37, loss:0.6006022095680237\n",
      "Accuracy: 80.22999572753906%\n",
      "Epoch: 38, loss:0.6451727747917175\n",
      "Accuracy: 80.81999969482422%\n",
      "Epoch: 39, loss:0.5309019088745117\n",
      "Accuracy: 81.47999572753906%\n",
      "Epoch: 40, loss:0.5616227388381958\n",
      "Accuracy: 81.07999420166016%\n",
      "Epoch: 41, loss:0.41826677322387695\n",
      "Accuracy: 81.68000030517578%\n",
      "Epoch: 42, loss:0.4297618269920349\n",
      "Accuracy: 81.33999633789062%\n",
      "Epoch: 43, loss:0.5800238847732544\n",
      "Accuracy: 81.0%\n",
      "Epoch: 44, loss:0.6030591726303101\n",
      "Accuracy: 82.30999755859375%\n",
      "Epoch: 45, loss:0.4031412601470947\n",
      "Accuracy: 82.22999572753906%\n",
      "Epoch: 46, loss:0.48866578936576843\n",
      "Accuracy: 81.93999481201172%\n",
      "Epoch: 47, loss:0.5617241859436035\n",
      "Accuracy: 82.5%\n",
      "Epoch: 48, loss:0.5651035904884338\n",
      "Accuracy: 81.66999816894531%\n",
      "Epoch: 49, loss:0.4248054623603821\n",
      "Accuracy: 82.23999786376953%\n",
      "Epoch: 50, loss:0.5234912037849426\n",
      "Accuracy: 82.00999450683594%\n",
      "Epoch: 51, loss:0.34258246421813965\n",
      "Accuracy: 82.69999694824219%\n",
      "Epoch: 52, loss:0.5889213681221008\n",
      "Accuracy: 82.33000183105469%\n",
      "Epoch: 53, loss:0.4003992974758148\n",
      "Accuracy: 83.25%\n",
      "Epoch: 54, loss:0.3583897650241852\n",
      "Accuracy: 83.12999725341797%\n",
      "Epoch: 55, loss:0.382880836725235\n",
      "Accuracy: 82.88999938964844%\n",
      "Epoch: 56, loss:0.44006529450416565\n",
      "Accuracy: 83.01000213623047%\n",
      "Epoch: 57, loss:0.4725184440612793\n",
      "Accuracy: 83.5199966430664%\n",
      "Epoch: 58, loss:0.2370455265045166\n",
      "Accuracy: 83.0999984741211%\n",
      "Epoch: 59, loss:0.5278180837631226\n",
      "Accuracy: 83.30999755859375%\n",
      "Epoch: 60, loss:0.4139644205570221\n",
      "Accuracy: 83.47000122070312%\n",
      "Epoch: 61, loss:0.43939408659935\n",
      "Accuracy: 83.87000274658203%\n",
      "Epoch: 62, loss:0.35508739948272705\n",
      "Accuracy: 82.54000091552734%\n",
      "Epoch: 63, loss:0.4361565411090851\n",
      "Accuracy: 83.95999908447266%\n",
      "Epoch: 64, loss:0.42220377922058105\n",
      "Accuracy: 83.66999816894531%\n",
      "Epoch: 65, loss:0.4682462513446808\n",
      "Accuracy: 83.12000274658203%\n",
      "Epoch: 66, loss:0.530366063117981\n",
      "Accuracy: 83.26000213623047%\n",
      "Epoch: 67, loss:0.41762372851371765\n",
      "Accuracy: 84.30999755859375%\n",
      "Epoch: 68, loss:0.46581700444221497\n",
      "Accuracy: 84.12000274658203%\n",
      "Epoch: 69, loss:0.3655391037464142\n",
      "Accuracy: 84.22000122070312%\n",
      "Epoch: 70, loss:0.49025705456733704\n",
      "Accuracy: 84.27000427246094%\n",
      "Epoch: 71, loss:0.38836950063705444\n",
      "Accuracy: 84.25%\n",
      "Epoch: 72, loss:0.45544883608818054\n",
      "Accuracy: 84.58999633789062%\n",
      "Epoch: 73, loss:0.3957187831401825\n",
      "Accuracy: 84.13999938964844%\n",
      "Epoch: 74, loss:0.2733917832374573\n",
      "Accuracy: 83.91999816894531%\n",
      "Epoch: 75, loss:0.23754383623600006\n",
      "Accuracy: 84.61000061035156%\n",
      "Epoch: 76, loss:0.394437700510025\n",
      "Accuracy: 83.30000305175781%\n",
      "Epoch: 77, loss:0.44760385155677795\n",
      "Accuracy: 84.66999816894531%\n",
      "Epoch: 78, loss:0.38896411657333374\n",
      "Accuracy: 84.33999633789062%\n",
      "Epoch: 79, loss:0.4240889251232147\n",
      "Accuracy: 84.51000213623047%\n",
      "Epoch: 80, loss:0.4653334319591522\n",
      "Accuracy: 83.9000015258789%\n",
      "Epoch: 81, loss:0.47548338770866394\n",
      "Accuracy: 84.43000030517578%\n",
      "Epoch: 82, loss:0.2925719916820526\n",
      "Accuracy: 85.18999481201172%\n",
      "Epoch: 83, loss:0.35136014223098755\n",
      "Accuracy: 84.41999816894531%\n",
      "Epoch: 84, loss:0.43936142325401306\n",
      "Accuracy: 84.44000244140625%\n",
      "Epoch: 85, loss:0.3634365499019623\n",
      "Accuracy: 84.4000015258789%\n",
      "Epoch: 86, loss:0.3333459794521332\n",
      "Accuracy: 84.58999633789062%\n",
      "Epoch: 87, loss:0.40548110008239746\n",
      "Accuracy: 85.03999328613281%\n",
      "Epoch: 88, loss:0.3642277121543884\n",
      "Accuracy: 85.31999206542969%\n",
      "Epoch: 89, loss:0.30498966574668884\n",
      "Accuracy: 84.75%\n",
      "Epoch: 90, loss:0.3575114607810974\n",
      "Accuracy: 85.07999420166016%\n",
      "Epoch: 91, loss:0.3189387321472168\n",
      "Accuracy: 84.7699966430664%\n",
      "Epoch: 92, loss:0.2950505018234253\n",
      "Accuracy: 84.27999877929688%\n",
      "Epoch: 93, loss:0.3275495171546936\n",
      "Accuracy: 84.98999786376953%\n",
      "Epoch: 94, loss:0.34973523020744324\n",
      "Accuracy: 85.38999938964844%\n",
      "Epoch: 95, loss:0.41538006067276\n",
      "Accuracy: 84.93999481201172%\n",
      "Epoch: 96, loss:0.5054550766944885\n",
      "Accuracy: 84.3499984741211%\n",
      "Epoch: 97, loss:0.3058047294616699\n",
      "Accuracy: 85.5999984741211%\n",
      "Epoch: 98, loss:0.29620271921157837\n",
      "Accuracy: 85.43999481201172%\n",
      "Epoch: 99, loss:0.32541966438293457\n",
      "Accuracy: 84.91999816894531%\n",
      "Epoch: 100, loss:0.31883126497268677\n",
      "Accuracy: 85.33999633789062%\n"
     ]
    }
   ],
   "source": [
    "for epoch in range(nums_epoch):\n",
    "  train_CIFAR10(model,device,train_loader_CIFAR10,optimizer_CIFAR10,epoch,criterion)\n",
    "  test_CIFAR10(model,device,test_loader_CIFAR10)"
   ]
  },
  {
   "cell_type": "code",
   "execution_count": null,
   "metadata": {},
   "outputs": [],
   "source": []
  },
  {
   "cell_type": "code",
   "execution_count": null,
   "metadata": {},
   "outputs": [],
   "source": []
  },
  {
   "cell_type": "code",
   "execution_count": null,
   "metadata": {},
   "outputs": [],
   "source": []
  }
 ],
 "metadata": {
  "colab": {
   "collapsed_sections": [
    "84ghUebtww-t",
    "ttr9Uh8qt2Yn",
    "0SQOR0cgNZMY",
    "mkyt9u-6ovei",
    "yEKduDaqvozq",
    "tny3wPVkhbNW"
   ],
   "provenance": [],
   "toc_visible": true
  },
  "gpuClass": "standard",
  "kernelspec": {
   "display_name": "Python 3 (ipykernel)",
   "language": "python",
   "name": "python3"
  },
  "language_info": {
   "codemirror_mode": {
    "name": "ipython",
    "version": 3
   },
   "file_extension": ".py",
   "mimetype": "text/x-python",
   "name": "python",
   "nbconvert_exporter": "python",
   "pygments_lexer": "ipython3",
   "version": "3.7.9"
  },
  "widgets": {
   "application/vnd.jupyter.widget-state+json": {
    "167adc7216304368b9e2e2543f87bca4": {
     "model_module": "@jupyter-widgets/base",
     "model_module_version": "1.2.0",
     "model_name": "LayoutModel",
     "state": {
      "_model_module": "@jupyter-widgets/base",
      "_model_module_version": "1.2.0",
      "_model_name": "LayoutModel",
      "_view_count": null,
      "_view_module": "@jupyter-widgets/base",
      "_view_module_version": "1.2.0",
      "_view_name": "LayoutView",
      "align_content": null,
      "align_items": null,
      "align_self": null,
      "border": null,
      "bottom": null,
      "display": null,
      "flex": null,
      "flex_flow": null,
      "grid_area": null,
      "grid_auto_columns": null,
      "grid_auto_flow": null,
      "grid_auto_rows": null,
      "grid_column": null,
      "grid_gap": null,
      "grid_row": null,
      "grid_template_areas": null,
      "grid_template_columns": null,
      "grid_template_rows": null,
      "height": null,
      "justify_content": null,
      "justify_items": null,
      "left": null,
      "margin": null,
      "max_height": null,
      "max_width": null,
      "min_height": null,
      "min_width": null,
      "object_fit": null,
      "object_position": null,
      "order": null,
      "overflow": null,
      "overflow_x": null,
      "overflow_y": null,
      "padding": null,
      "right": null,
      "top": null,
      "visibility": null,
      "width": null
     }
    },
    "31c7f1630691421b846c0286f820a812": {
     "model_module": "@jupyter-widgets/controls",
     "model_module_version": "1.5.0",
     "model_name": "DescriptionStyleModel",
     "state": {
      "_model_module": "@jupyter-widgets/controls",
      "_model_module_version": "1.5.0",
      "_model_name": "DescriptionStyleModel",
      "_view_count": null,
      "_view_module": "@jupyter-widgets/base",
      "_view_module_version": "1.2.0",
      "_view_name": "StyleView",
      "description_width": ""
     }
    },
    "3ec7ecdd59bd416abd10d0dc9fe03b59": {
     "model_module": "@jupyter-widgets/controls",
     "model_module_version": "1.5.0",
     "model_name": "FloatProgressModel",
     "state": {
      "_dom_classes": [],
      "_model_module": "@jupyter-widgets/controls",
      "_model_module_version": "1.5.0",
      "_model_name": "FloatProgressModel",
      "_view_count": null,
      "_view_module": "@jupyter-widgets/controls",
      "_view_module_version": "1.5.0",
      "_view_name": "ProgressView",
      "bar_style": "success",
      "description": "",
      "description_tooltip": null,
      "layout": "IPY_MODEL_5c79b21ed53d40e39bde0e51ef991ddc",
      "max": 170498071,
      "min": 0,
      "orientation": "horizontal",
      "style": "IPY_MODEL_d7c922319e094abcb3c63a0890204929",
      "value": 170498071
     }
    },
    "4d0fa35fadd448fab8eaf20cf674a118": {
     "model_module": "@jupyter-widgets/base",
     "model_module_version": "1.2.0",
     "model_name": "LayoutModel",
     "state": {
      "_model_module": "@jupyter-widgets/base",
      "_model_module_version": "1.2.0",
      "_model_name": "LayoutModel",
      "_view_count": null,
      "_view_module": "@jupyter-widgets/base",
      "_view_module_version": "1.2.0",
      "_view_name": "LayoutView",
      "align_content": null,
      "align_items": null,
      "align_self": null,
      "border": null,
      "bottom": null,
      "display": null,
      "flex": null,
      "flex_flow": null,
      "grid_area": null,
      "grid_auto_columns": null,
      "grid_auto_flow": null,
      "grid_auto_rows": null,
      "grid_column": null,
      "grid_gap": null,
      "grid_row": null,
      "grid_template_areas": null,
      "grid_template_columns": null,
      "grid_template_rows": null,
      "height": null,
      "justify_content": null,
      "justify_items": null,
      "left": null,
      "margin": null,
      "max_height": null,
      "max_width": null,
      "min_height": null,
      "min_width": null,
      "object_fit": null,
      "object_position": null,
      "order": null,
      "overflow": null,
      "overflow_x": null,
      "overflow_y": null,
      "padding": null,
      "right": null,
      "top": null,
      "visibility": null,
      "width": null
     }
    },
    "5c79b21ed53d40e39bde0e51ef991ddc": {
     "model_module": "@jupyter-widgets/base",
     "model_module_version": "1.2.0",
     "model_name": "LayoutModel",
     "state": {
      "_model_module": "@jupyter-widgets/base",
      "_model_module_version": "1.2.0",
      "_model_name": "LayoutModel",
      "_view_count": null,
      "_view_module": "@jupyter-widgets/base",
      "_view_module_version": "1.2.0",
      "_view_name": "LayoutView",
      "align_content": null,
      "align_items": null,
      "align_self": null,
      "border": null,
      "bottom": null,
      "display": null,
      "flex": null,
      "flex_flow": null,
      "grid_area": null,
      "grid_auto_columns": null,
      "grid_auto_flow": null,
      "grid_auto_rows": null,
      "grid_column": null,
      "grid_gap": null,
      "grid_row": null,
      "grid_template_areas": null,
      "grid_template_columns": null,
      "grid_template_rows": null,
      "height": null,
      "justify_content": null,
      "justify_items": null,
      "left": null,
      "margin": null,
      "max_height": null,
      "max_width": null,
      "min_height": null,
      "min_width": null,
      "object_fit": null,
      "object_position": null,
      "order": null,
      "overflow": null,
      "overflow_x": null,
      "overflow_y": null,
      "padding": null,
      "right": null,
      "top": null,
      "visibility": null,
      "width": null
     }
    },
    "663be0ea8ffe4a3aa366e1f6ec094ac7": {
     "model_module": "@jupyter-widgets/controls",
     "model_module_version": "1.5.0",
     "model_name": "DescriptionStyleModel",
     "state": {
      "_model_module": "@jupyter-widgets/controls",
      "_model_module_version": "1.5.0",
      "_model_name": "DescriptionStyleModel",
      "_view_count": null,
      "_view_module": "@jupyter-widgets/base",
      "_view_module_version": "1.2.0",
      "_view_name": "StyleView",
      "description_width": ""
     }
    },
    "8141ea3902d34b79a8fc28fd0337136b": {
     "model_module": "@jupyter-widgets/controls",
     "model_module_version": "1.5.0",
     "model_name": "HTMLModel",
     "state": {
      "_dom_classes": [],
      "_model_module": "@jupyter-widgets/controls",
      "_model_module_version": "1.5.0",
      "_model_name": "HTMLModel",
      "_view_count": null,
      "_view_module": "@jupyter-widgets/controls",
      "_view_module_version": "1.5.0",
      "_view_name": "HTMLView",
      "description": "",
      "description_tooltip": null,
      "layout": "IPY_MODEL_e8a83bd722c24e0084cd24de86311c5a",
      "placeholder": "​",
      "style": "IPY_MODEL_31c7f1630691421b846c0286f820a812",
      "value": "100%"
     }
    },
    "c3cfb4b6037145b9bf0e194b0edf862d": {
     "model_module": "@jupyter-widgets/controls",
     "model_module_version": "1.5.0",
     "model_name": "HTMLModel",
     "state": {
      "_dom_classes": [],
      "_model_module": "@jupyter-widgets/controls",
      "_model_module_version": "1.5.0",
      "_model_name": "HTMLModel",
      "_view_count": null,
      "_view_module": "@jupyter-widgets/controls",
      "_view_module_version": "1.5.0",
      "_view_name": "HTMLView",
      "description": "",
      "description_tooltip": null,
      "layout": "IPY_MODEL_4d0fa35fadd448fab8eaf20cf674a118",
      "placeholder": "​",
      "style": "IPY_MODEL_663be0ea8ffe4a3aa366e1f6ec094ac7",
      "value": " 170498071/170498071 [00:12&lt;00:00, 14288116.55it/s]"
     }
    },
    "cb017bf9738b4288862617dae51fbe2d": {
     "model_module": "@jupyter-widgets/controls",
     "model_module_version": "1.5.0",
     "model_name": "HBoxModel",
     "state": {
      "_dom_classes": [],
      "_model_module": "@jupyter-widgets/controls",
      "_model_module_version": "1.5.0",
      "_model_name": "HBoxModel",
      "_view_count": null,
      "_view_module": "@jupyter-widgets/controls",
      "_view_module_version": "1.5.0",
      "_view_name": "HBoxView",
      "box_style": "",
      "children": [
       "IPY_MODEL_8141ea3902d34b79a8fc28fd0337136b",
       "IPY_MODEL_3ec7ecdd59bd416abd10d0dc9fe03b59",
       "IPY_MODEL_c3cfb4b6037145b9bf0e194b0edf862d"
      ],
      "layout": "IPY_MODEL_167adc7216304368b9e2e2543f87bca4"
     }
    },
    "d7c922319e094abcb3c63a0890204929": {
     "model_module": "@jupyter-widgets/controls",
     "model_module_version": "1.5.0",
     "model_name": "ProgressStyleModel",
     "state": {
      "_model_module": "@jupyter-widgets/controls",
      "_model_module_version": "1.5.0",
      "_model_name": "ProgressStyleModel",
      "_view_count": null,
      "_view_module": "@jupyter-widgets/base",
      "_view_module_version": "1.2.0",
      "_view_name": "StyleView",
      "bar_color": null,
      "description_width": ""
     }
    },
    "e8a83bd722c24e0084cd24de86311c5a": {
     "model_module": "@jupyter-widgets/base",
     "model_module_version": "1.2.0",
     "model_name": "LayoutModel",
     "state": {
      "_model_module": "@jupyter-widgets/base",
      "_model_module_version": "1.2.0",
      "_model_name": "LayoutModel",
      "_view_count": null,
      "_view_module": "@jupyter-widgets/base",
      "_view_module_version": "1.2.0",
      "_view_name": "LayoutView",
      "align_content": null,
      "align_items": null,
      "align_self": null,
      "border": null,
      "bottom": null,
      "display": null,
      "flex": null,
      "flex_flow": null,
      "grid_area": null,
      "grid_auto_columns": null,
      "grid_auto_flow": null,
      "grid_auto_rows": null,
      "grid_column": null,
      "grid_gap": null,
      "grid_row": null,
      "grid_template_areas": null,
      "grid_template_columns": null,
      "grid_template_rows": null,
      "height": null,
      "justify_content": null,
      "justify_items": null,
      "left": null,
      "margin": null,
      "max_height": null,
      "max_width": null,
      "min_height": null,
      "min_width": null,
      "object_fit": null,
      "object_position": null,
      "order": null,
      "overflow": null,
      "overflow_x": null,
      "overflow_y": null,
      "padding": null,
      "right": null,
      "top": null,
      "visibility": null,
      "width": null
     }
    }
   }
  }
 },
 "nbformat": 4,
 "nbformat_minor": 1
}
